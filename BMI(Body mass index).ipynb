{
 "cells": [
  {
   "cell_type": "code",
   "execution_count": 4,
   "metadata": {},
   "outputs": [
    {
     "name": "stdout",
     "output_type": "stream",
     "text": [
      "Masukkan tinggi badan anda : 178\n",
      "Masukkan berat badan anda   : 60\n",
      "BMI 18.93700290367378 Ideal\n"
     ]
    }
   ],
   "source": [
    "tingcm=float(input(\"Masukkan tinggi badan anda : \"))\n",
    "berat=float(input(\"Masukkan berat badan anda   : \"))\n",
    "tingm=tingcm*0.01\n",
    "BMI = berat/(tingm**2)\n",
    "if BMI < 18.5:\n",
    "    print(\"BMI =\",BMI,\"Kurang\")\n",
    "elif BMI >=18.5 and BMI <=24.9:\n",
    "    print(\"BMI\",BMI,\"Ideal\")\n",
    "else:\n",
    "    print(\"BMI=\",BMI,\"Gemuk\")"
   ]
  },
  {
   "cell_type": "code",
   "execution_count": null,
   "metadata": {},
   "outputs": [],
   "source": []
  },
  {
   "cell_type": "code",
   "execution_count": null,
   "metadata": {},
   "outputs": [],
   "source": []
  },
  {
   "cell_type": "code",
   "execution_count": null,
   "metadata": {},
   "outputs": [],
   "source": []
  },
  {
   "cell_type": "code",
   "execution_count": null,
   "metadata": {},
   "outputs": [],
   "source": []
  },
  {
   "cell_type": "code",
   "execution_count": null,
   "metadata": {},
   "outputs": [],
   "source": []
  },
  {
   "cell_type": "code",
   "execution_count": null,
   "metadata": {},
   "outputs": [],
   "source": []
  }
 ],
 "metadata": {
  "kernelspec": {
   "display_name": "Python 3",
   "language": "python",
   "name": "python3"
  }
 },
 "nbformat": 4,
 "nbformat_minor": 2
}
